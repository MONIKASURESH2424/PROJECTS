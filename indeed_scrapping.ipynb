{
 "cells": [
  {
   "cell_type": "code",
   "execution_count": 1,
   "id": "28a8bc4b-478a-49ec-8849-df2f06871339",
   "metadata": {},
   "outputs": [
    {
     "name": "stdout",
     "output_type": "stream",
     "text": [
      "JSON file created: scraped_data.json\n"
     ]
    }
   ],
   "source": [
    "from apify_client import ApifyClient\n",
    "import pandas as pd\n",
    "import json\n",
    "import os\n",
    "\n",
    "# Initialize the ApifyClient with your API token\n",
    "client = ApifyClient(\"apify_api_VcZrdN96kkUnvKBTGI8oiuovfwFu2K3XDMiX\")\n",
    "\n",
    "# Prepare the Actor input\n",
    "run_input = {\n",
    "    \"position\": \"web developer\",\n",
    "    \"country\": \"US\",\n",
    "    \"location\": \"San Francisco\",\n",
    "    \"maxItems\": 50,\n",
    "    \"parseCompanyDetails\": False,\n",
    "    \"saveOnlyUniqueItems\": True,\n",
    "    \"followApplyRedirects\": False,\n",
    "}\n",
    "data=[]\n",
    "# Run the Actor and wait for it to finish\n",
    "run = client.actor(\"hMvNSpz3JnHgl5jkh\").call(run_input=run_input)\n",
    "\n",
    "# Fetch and collect Actor results from the run's dataset\n",
    "for item in client.dataset(run[\"defaultDatasetId\"]).iterate_items():\n",
    "    data.append(item)\n",
    "\n",
    "# If data, save data as JSON\n",
    "if data:\n",
    "    json_filename = \"scraped_data.json\"\n",
    "    with open(json_filename, \"w\") as json_file:\n",
    "        json.dump(data, json_file, indent=4)\n",
    "    print(f\"JSON file created: {json_filename}\")\n",
    "\n",
    "# Convert the data to a Pandas DataFrame for CSV export\n",
    "df = pd.DataFrame(data)\n"
   ]
  },
  {
   "cell_type": "code",
   "execution_count": null,
   "id": "65ea2694-fcad-48b8-88e4-1dcd435271fc",
   "metadata": {},
   "outputs": [],
   "source": []
  }
 ],
 "metadata": {
  "kernelspec": {
   "display_name": "Python 3 (ipykernel)",
   "language": "python",
   "name": "python3"
  },
  "language_info": {
   "codemirror_mode": {
    "name": "ipython",
    "version": 3
   },
   "file_extension": ".py",
   "mimetype": "text/x-python",
   "name": "python",
   "nbconvert_exporter": "python",
   "pygments_lexer": "ipython3",
   "version": "3.12.7"
  }
 },
 "nbformat": 4,
 "nbformat_minor": 5
}

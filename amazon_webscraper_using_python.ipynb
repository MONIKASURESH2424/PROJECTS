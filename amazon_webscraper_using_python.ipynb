{
 "cells": [
  {
   "cell_type": "code",
   "execution_count": 1,
   "id": "ecac6731-ab6e-47fc-88dc-1bdebedfdba3",
   "metadata": {},
   "outputs": [
    {
     "name": "stdout",
     "output_type": "stream",
     "text": [
      "Scraping page 1...\n",
      "Scraping page 2...\n",
      "Scraping page 3...\n",
      "Scraping completed and data saved to amazon_products.csv\n"
     ]
    }
   ],
   "source": [
    "from selenium import webdriver\n",
    "from selenium.webdriver.chrome.service import Service as ChromeService\n",
    "from webdriver_manager.chrome import ChromeDriverManager\n",
    "from bs4 import BeautifulSoup\n",
    "import pandas as pd\n",
    "import time\n",
    "import random\n",
    "\n",
    "# Set up Selenium\n",
    "options = webdriver.ChromeOptions()\n",
    "options.add_argument(\"--headless\")  # Run in headless mode\n",
    "options.add_argument(\"--no-sandbox\")\n",
    "options.add_argument(\"--disable-dev-shm-usage\")\n",
    "\n",
    "driver = webdriver.Chrome(service=ChromeService(ChromeDriverManager().install()), options=options)\n",
    "\n",
    "# Function to extract product data from a single page\n",
    "def extract_product_data(soup):\n",
    "    products = []\n",
    "    \n",
    "    for item in soup.select(\".s-result-item\"):\n",
    "        name = item.select_one(\".a-text-normal\")\n",
    "        price_whole = item.select_one(\".a-price-whole\")\n",
    "        price_fraction = item.select_one(\".a-price-fraction\")\n",
    "        rating = item.select_one(\".a-icon-alt\")\n",
    "        reviews = item.select_one(\".a-size-base\")\n",
    "\n",
    "        if name and price_whole:\n",
    "            price = f\"{price_whole.get_text(strip=True)}.{price_fraction.get_text(strip=True) if price_fraction else '00'}\"\n",
    "            product_data = {\n",
    "                \"Product Name\": name.get_text(strip=True),\n",
    "                \"Price\": price,\n",
    "                \"Rating\": rating.get_text(strip=True) if rating else \"No rating\",\n",
    "                \"Reviews\": reviews.get_text(strip=True) if reviews else \"No reviews\",\n",
    "            }\n",
    "            products.append(product_data)\n",
    "    \n",
    "    return products\n",
    "\n",
    "# Function to scrape multiple pages of search results\n",
    "def scrape_amazon(pages=3):\n",
    "    all_products = []\n",
    "    \n",
    "    for page in range(1, pages + 1):\n",
    "        print(f\"Scraping page {page}...\")\n",
    "        \n",
    "        url = f\"https://www.amazon.com/s?k=laptop&page={page}\"\n",
    "        driver.get(url)\n",
    "        \n",
    "        time.sleep(random.uniform(2, 5))  # Random delay to mimic human behavior\n",
    "        \n",
    "        soup = BeautifulSoup(driver.page_source, \"html.parser\")\n",
    "        products = extract_product_data(soup)\n",
    "        all_products.extend(products)\n",
    "    \n",
    "    driver.quit()  # Close the browser after scraping\n",
    "    return all_products\n",
    "\n",
    "# Scrape 3 pages of Amazon search results\n",
    "product_data = scrape_amazon(pages=3)\n",
    "\n",
    "# Convert the product data into a DataFrame\n",
    "df = pd.DataFrame(product_data)\n",
    "\n",
    "# Save the data to a CSV file\n",
    "df.to_csv(\"amazon_products.csv\", index=False)\n",
    "\n",
    "print(\"Scraping completed and data saved to amazon_products.csv\")\n"
   ]
  },
  {
   "cell_type": "code",
   "execution_count": null,
   "id": "e16f29fa-5c2a-431d-84c9-a0a785158e66",
   "metadata": {},
   "outputs": [],
   "source": []
  }
 ],
 "metadata": {
  "kernelspec": {
   "display_name": "Python 3 (ipykernel)",
   "language": "python",
   "name": "python3"
  },
  "language_info": {
   "codemirror_mode": {
    "name": "ipython",
    "version": 3
   },
   "file_extension": ".py",
   "mimetype": "text/x-python",
   "name": "python",
   "nbconvert_exporter": "python",
   "pygments_lexer": "ipython3",
   "version": "3.12.7"
  }
 },
 "nbformat": 4,
 "nbformat_minor": 5
}
